{
  "nbformat": 4,
  "nbformat_minor": 0,
  "metadata": {
    "colab": {
      "name": "First NN Model in Pytorch .ipynb",
      "provenance": []
    },
    "kernelspec": {
      "name": "python3",
      "display_name": "Python 3"
    },
    "accelerator": "GPU"
  },
  "cells": [
    {
      "cell_type": "code",
      "metadata": {
        "id": "tIGagVXZKV45",
        "colab_type": "code",
        "colab": {}
      },
      "source": [
        ""
      ],
      "execution_count": 0,
      "outputs": []
    },
    {
      "cell_type": "code",
      "metadata": {
        "id": "v-HthSiZjdX3",
        "colab_type": "code",
        "colab": {}
      },
      "source": [
        "import torch\n",
        "from torchvision import datasets, transforms   "
      ],
      "execution_count": 0,
      "outputs": []
    },
    {
      "cell_type": "code",
      "metadata": {
        "id": "ka-ZPLs_Kjev",
        "colab_type": "code",
        "colab": {}
      },
      "source": [
        "# datasets module has MNIST() class. \n",
        "# \n",
        "train_data = datasets.MNIST('', train=True, download=True, transform=transforms.Compose([transforms.ToTensor()]))  \n",
        "test_data = datasets.MNIST('', train=False, download=True, transform=transforms.Compose([transforms.ToTensor()]))\n",
        "\n",
        "\n"
      ],
      "execution_count": 0,
      "outputs": []
    },
    {
      "cell_type": "code",
      "metadata": {
        "id": "My1MN13HLXhF",
        "colab_type": "code",
        "colab": {}
      },
      "source": [
        "train_set = torch.utils.data.DataLoader(train_data, batch_size=16, shuffle=True)\n",
        "test_set = torch.utils.data.DataLoader(test_data, batch_size=16, shuffle=True)"
      ],
      "execution_count": 0,
      "outputs": []
    },
    {
      "cell_type": "code",
      "metadata": {
        "id": "HkVdGe0oMFvW",
        "colab_type": "code",
        "colab": {}
      },
      "source": [
        "import torch.nn as nn   \n",
        "import torch.nn.functional as F  # torch modules containing functions\n"
      ],
      "execution_count": 0,
      "outputs": []
    },
    {
      "cell_type": "code",
      "metadata": {
        "id": "jVuN2AePMa-B",
        "colab_type": "code",
        "colab": {}
      },
      "source": [
        "class Net(nn.Module):   # nn.Module class is inherited by the Net class\n",
        "\n",
        "  def __init__(self):\n",
        "    super().__init__()               # super() inherits methods from nn.Module class and init() for their initialization\n",
        "    self.fc1 = nn.Linear(784, 64)    # defining 1st hidden layer with 784  input neurons (28x28 pixels) and 64 output neurons. fc stands for fully connected.\n",
        "    self.fc2 = nn.Linear(64, 32)     # defining 2nd hidden layer. Note 64, 32\n",
        "    self.fc3 = nn.Linear(32, 10)     # defining 3rd layer. Note 32, 10. Here, 10 digits are there. \n",
        "\n",
        "  def forward(self, x):   # forward propagation\n",
        "      x = self.fc1(x)\n",
        "      x = F.relu(x)\n",
        "      x = self.fc2(x)\n",
        "      x = F.relu(x)\n",
        "      x = self.fc3(x)\n",
        "      return F.log_softmax(x, dim=1)   #  dim=1 for summing up across columns i.e horizontally. F.log_softmax is log(softmax)\n",
        "  \n"
      ],
      "execution_count": 0,
      "outputs": []
    },
    {
      "cell_type": "code",
      "metadata": {
        "id": "D-6rTf1dpK8D",
        "colab_type": "code",
        "outputId": "d1aa6e0e-3e8e-4ef2-bdeb-a511139c0483",
        "colab": {
          "base_uri": "https://localhost:8080/",
          "height": 187
        }
      },
      "source": [
        "net = Net() #create a net object for Net() class\n",
        "params = net.parameters()  #weights and bias for the network\n",
        "\n",
        "from torch import optim\n",
        "optimizer = optim.Adam(params, lr=1e-3)   # defining the optimizer. Here Adam() class\n",
        "\n",
        "EPOCHS = 10\n",
        "for e in range(EPOCHS):\n",
        "  for data in train_set:\n",
        "    Xs, ys = data           # here data is a list of 16 X_Tensor and 16 y_Tensor. So, unpacking the list.\n",
        "                            # Xs has shape torch.Size([16, 1, 28, 28]) and ys has shape torch.Size([16]). We need to flatten our Xs.\n",
        "    X = Xs.view(-1, 28*28)  # note the reshaped dimension of X to be taken by the forward()\n",
        "    net.zero_grad()         # zeroing the gradient for each batch of input data to avoid gradient accumulation.\n",
        "    outputs = net(X)          # predicted log(softmax)\n",
        "    loss = F.nll_loss(outputs, ys)   # nll = negative log likelihood. note it is a function from F module\n",
        "\n",
        "    loss.backward()         # backpropagation: calculate gradients of  loss w.r.t parameters.\n",
        "    optimizer.step()       # optimizing and updating parameters\n",
        "  \n",
        "  print(f\"loss after {e+1} epochs: \" +str(loss))\n",
        "  \n"
      ],
      "execution_count": 0,
      "outputs": [
        {
          "output_type": "stream",
          "text": [
            "loss after 1 epochs: tensor(0.0293, grad_fn=<NllLossBackward>)\n",
            "loss after 2 epochs: tensor(0.6349, grad_fn=<NllLossBackward>)\n",
            "loss after 3 epochs: tensor(0.1297, grad_fn=<NllLossBackward>)\n",
            "loss after 4 epochs: tensor(0.0150, grad_fn=<NllLossBackward>)\n",
            "loss after 5 epochs: tensor(0.0322, grad_fn=<NllLossBackward>)\n",
            "loss after 6 epochs: tensor(0.1674, grad_fn=<NllLossBackward>)\n",
            "loss after 7 epochs: tensor(0.0121, grad_fn=<NllLossBackward>)\n",
            "loss after 8 epochs: tensor(0.0127, grad_fn=<NllLossBackward>)\n",
            "loss after 9 epochs: tensor(0.0006, grad_fn=<NllLossBackward>)\n",
            "loss after 10 epochs: tensor(0.1645, grad_fn=<NllLossBackward>)\n"
          ],
          "name": "stdout"
        }
      ]
    },
    {
      "cell_type": "code",
      "metadata": {
        "id": "ahk165CgpM21",
        "colab_type": "code",
        "outputId": "15444540-f5f0-431a-d69c-3b76af95ed78",
        "colab": {
          "base_uri": "https://localhost:8080/",
          "height": 34
        }
      },
      "source": [
        "# finding the accuracy on train_set\n",
        "total, correct = 0, 0\n",
        "with torch.no_grad():\n",
        "  for data in train_set:\n",
        "    Xs, ys = data\n",
        "    X = Xs.view(-1, 28*28)\n",
        "    outputs = net(X)  # it has shape (16,10). It is a log_prob Tensor\n",
        "    predicted = torch.argmax(outputs, dim=1)  # log is an increasing function. so, argmax for prob or log_prob remains same. Note dim=1, maximum across columns, i.e. horizontally.\n",
        "    for i in range(len(ys)):\n",
        "      total+=1\n",
        "      if ys[i]==predicted[i]:\n",
        "        correct+=1\n",
        "print(f\"{correct} correct out of {total} training MNIST images with accuracy of {correct*100/total} %\")\n",
        "    "
      ],
      "execution_count": 0,
      "outputs": [
        {
          "output_type": "stream",
          "text": [
            "59545 correct out of 60000 with accuracy of 99.24166666666666 %\n"
          ],
          "name": "stdout"
        }
      ]
    },
    {
      "cell_type": "code",
      "metadata": {
        "id": "JcSdHQy024EU",
        "colab_type": "code",
        "outputId": "e8a4fbff-0c46-4ae8-d35a-e0df17a8b9c3",
        "colab": {
          "base_uri": "https://localhost:8080/",
          "height": 34
        }
      },
      "source": [
        "# finding the accuracy on test_set\n",
        "total, correct = 0, 0\n",
        "with torch.no_grad():\n",
        "  for data in test_set:\n",
        "    Xs, ys = data\n",
        "    X = Xs.view(-1, 28*28)\n",
        "    outputs = net(X)  # it has shape (16,10). It is a log_prob Tensor\n",
        "    predicted = torch.argmax(outputs, dim=1)  # log is an increasing function. so, argmax for prob or log_prob remains same. Note dim=1, maximum across columns, i.e. horizontally.\n",
        "    for i in range(len(ys)):\n",
        "      total+=1\n",
        "      if ys[i]==predicted[i]:\n",
        "        correct+=1\n",
        "print(f\"{correct} correct out of {total} test MNIST images with accuracy of {correct*100/total} %\")\n",
        "    "
      ],
      "execution_count": 0,
      "outputs": [
        {
          "output_type": "stream",
          "text": [
            "9754 correct out of 10000 test MNIST images with accuracy of 97.54 %\n"
          ],
          "name": "stdout"
        }
      ]
    },
    {
      "cell_type": "code",
      "metadata": {
        "id": "RSROMtHepa7E",
        "colab_type": "code",
        "colab": {}
      },
      "source": [
        ""
      ],
      "execution_count": 0,
      "outputs": []
    }
  ]
}